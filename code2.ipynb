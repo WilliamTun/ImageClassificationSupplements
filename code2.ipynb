{
 "cells": [
  {
   "cell_type": "markdown",
   "metadata": {},
   "source": [
    "# Using augumentation techniques to help model to generalise"
   ]
  },
  {
   "cell_type": "code",
   "execution_count": null,
   "metadata": {},
   "outputs": [],
   "source": [
    "# Augment a single image example."
   ]
  },
  {
   "cell_type": "code",
   "execution_count": null,
   "metadata": {},
   "outputs": [],
   "source": [
    "# https://blog.keras.io/building-powerful-image-classification-models-using-very-little-data.html"
   ]
  },
  {
   "cell_type": "code",
   "execution_count": 1,
   "metadata": {},
   "outputs": [
    {
     "name": "stderr",
     "output_type": "stream",
     "text": [
      "Using Theano backend.\n"
     ]
    }
   ],
   "source": [
    "import os\n",
    "from keras.preprocessing.image import ImageDataGenerator, array_to_img, img_to_array, load_img\n"
   ]
  },
  {
   "cell_type": "code",
   "execution_count": 2,
   "metadata": {},
   "outputs": [],
   "source": [
    "current_dir = os.getcwd()\n",
    "train_dir = current_dir + \"/train\"\n",
    "arrayOfFoldersInTrainDir = next(os.walk(train_dir))[1]\n",
    "\n",
    "writeOutPaths = []\n",
    "for className in arrayOfFoldersInTrainDir:\n",
    "    class_path =os.path.join(train_dir, className)\n",
    "    path, dirs, files = next(os.walk(class_path))\n",
    "    for file in files:\n",
    "        if file != '.DS_Store':\n",
    "            filePath = os.path.join(train_dir, className, file)\n",
    "            writeOutPaths.append(filePath)"
   ]
  },
  {
   "cell_type": "markdown",
   "metadata": {},
   "source": [
    "# Data generator"
   ]
  },
  {
   "cell_type": "code",
   "execution_count": 3,
   "metadata": {},
   "outputs": [],
   "source": [
    "# contains augmentation configurations\n",
    "datagen = ImageDataGenerator(\n",
    "        rotation_range=40,\n",
    "        width_shift_range=0.2,\n",
    "        height_shift_range=0.2,\n",
    "        shear_range=0.2,\n",
    "        zoom_range=0.2,\n",
    "        horizontal_flip=True,\n",
    "        fill_mode='nearest')"
   ]
  },
  {
   "cell_type": "code",
   "execution_count": 4,
   "metadata": {},
   "outputs": [],
   "source": [
    "def transformImageToNP(path):\n",
    "    img = load_img(path)  # this is a PIL image\n",
    "    x = img_to_array(img)  # this is a Numpy array with shape (3, 150, 150)\n",
    "    x = x.reshape((1,) + x.shape)  # this is a Numpy array with shape (1, 3, 150, 150)\n",
    "    return(x)\n"
   ]
  },
  {
   "cell_type": "code",
   "execution_count": 5,
   "metadata": {},
   "outputs": [],
   "source": [
    "def augmentImageAndWrite(data, writePath, num):\n",
    "# the .flow() command below generates batches of randomly transformed images\n",
    "# and saves the results to the `preview/` directory\n",
    "    i = 0\n",
    "    for batch in datagen.flow(data, \n",
    "                          batch_size=1,\n",
    "                          save_to_dir=writePath,\n",
    "                          save_prefix='sup', \n",
    "                          save_format='jpeg'):\n",
    "        i += 1\n",
    "        if i >= num:\n",
    "            break  # otherwise the generator would loop indefinitely"
   ]
  },
  {
   "cell_type": "code",
   "execution_count": null,
   "metadata": {},
   "outputs": [
    {
     "name": "stdout",
     "output_type": "stream",
     "text": [
      "class being augmented: 101_organicgingerroot\n"
     ]
    }
   ],
   "source": [
    "for className in arrayOfFoldersInTrainDir:\n",
    "    print(f\"class being augmented: {className}\")\n",
    "    class_path =os.path.join(train_dir, className)\n",
    "    path, dirs, files = next(os.walk(class_path))\n",
    "    for file in files:\n",
    "        if file != '.DS_Store':\n",
    "            filePath = os.path.join(train_dir, className, file)\n",
    "            imageNp = transformImageToNP(path=filePath)\n",
    "            augmentImageAndWrite(data=imageNp, writePath=class_path, num=1)\n",
    "    "
   ]
  },
  {
   "cell_type": "code",
   "execution_count": null,
   "metadata": {},
   "outputs": [],
   "source": [
    "# Apply multiclass classification."
   ]
  }
 ],
 "metadata": {
  "kernelspec": {
   "display_name": "Python 3",
   "language": "python",
   "name": "python3"
  },
  "language_info": {
   "codemirror_mode": {
    "name": "ipython",
    "version": 3
   },
   "file_extension": ".py",
   "mimetype": "text/x-python",
   "name": "python",
   "nbconvert_exporter": "python",
   "pygments_lexer": "ipython3",
   "version": "3.7.3"
  }
 },
 "nbformat": 4,
 "nbformat_minor": 2
}
