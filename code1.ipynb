{
 "cells": [
  {
   "cell_type": "markdown",
   "metadata": {},
   "source": [
    "# Using operating system to set up File Structure"
   ]
  },
  {
   "cell_type": "code",
   "execution_count": 1,
   "metadata": {},
   "outputs": [],
   "source": [
    "import os\n",
    "import shutil\n",
    "import random"
   ]
  },
  {
   "cell_type": "code",
   "execution_count": 2,
   "metadata": {},
   "outputs": [
    {
     "data": {
      "text/plain": [
       "'/Users/williamtun/Documents/DataProjects/2020_ML/SupplementsComputerVisionProject'"
      ]
     },
     "execution_count": 2,
     "metadata": {},
     "output_type": "execute_result"
    }
   ],
   "source": [
    "pwd"
   ]
  },
  {
   "cell_type": "code",
   "execution_count": 3,
   "metadata": {},
   "outputs": [
    {
     "data": {
      "text/plain": [
       "'/Users/williamtun/Documents/DataProjects/2020_ML/SupplementsComputerVisionProject'"
      ]
     },
     "execution_count": 3,
     "metadata": {},
     "output_type": "execute_result"
    }
   ],
   "source": [
    "current_dir = os.getcwd()\n",
    "current_dir"
   ]
  },
  {
   "cell_type": "code",
   "execution_count": 4,
   "metadata": {},
   "outputs": [
    {
     "data": {
      "text/plain": [
       "'/Users/williamtun/Documents/DataProjects/2020_ML/SupplementsComputerVisionProject/train'"
      ]
     },
     "execution_count": 4,
     "metadata": {},
     "output_type": "execute_result"
    }
   ],
   "source": [
    "train_dir = current_dir + \"/train\"\n",
    "train_dir"
   ]
  },
  {
   "cell_type": "code",
   "execution_count": 5,
   "metadata": {},
   "outputs": [
    {
     "data": {
      "text/plain": [
       "['101_organicgingerroot',\n",
       " 'hunter&gather_heart',\n",
       " 'restored_nighttime',\n",
       " 'holland&barret_selenium',\n",
       " 'centrumadvance_multivitamin',\n",
       " 'naturesaid_sleepeezy',\n",
       " 'hunter&gather_heartliver',\n",
       " 'ss_tumericcurcumin',\n",
       " 'silvertown_brocollisprouts',\n",
       " 'nutravita_psylliumhuskfibre',\n",
       " 'bioglan_tumeric',\n",
       " 'nutrionn_kidneycleanse',\n",
       " 'bioglan_beautyprotein',\n",
       " '1body_adrenalsupport',\n",
       " 'weleda_seabuckthorn',\n",
       " 'zenherbs_intestinalguard',\n",
       " 'bioglan_flaxchia',\n",
       " 'nutritrust_macaroot',\n",
       " 'sevenseas_codliveroil',\n",
       " 'activeedge_cherry',\n",
       " 'holland&barrett_calciummagnesiumvitd',\n",
       " 'holland&barret_jointcare',\n",
       " 'newnordic_clearbrain',\n",
       " 'dietapplements_applecidervinegar',\n",
       " 'nutravita_bioculture',\n",
       " 'lindtt_99darkchocolate',\n",
       " 'grassfed_bonebrotheroriginal',\n",
       " 'bioglan_calamarigold',\n",
       " 'eastmeetswest_curcumin',\n",
       " 'nutravita_tumeric',\n",
       " 'grassfedbeef_bonebroth',\n",
       " 'weedwonderful_seaweed',\n",
       " 'forestfungi_6mushroomcomplex',\n",
       " 'naturya_acai',\n",
       " 'optima_cherryjuice',\n",
       " 'prettysmartfood_matcha',\n",
       " 'pharmtect_dandelion',\n",
       " 'naturesaid_valerian',\n",
       " 'cosmicmolecule_bonebroth',\n",
       " 'precision_hmb',\n",
       " 'smartshroom_mushroomcomplex',\n",
       " 'hunter&gather_liver',\n",
       " 'trueveda_ashwaghanda',\n",
       " 'palmnature_mushroom7',\n",
       " 'timehealth_phosphatidylserine',\n",
       " 'brainzyme_focuselite',\n",
       " 'montezuma_100absoluteblack',\n",
       " 'ketosource_purec8mctoil',\n",
       " 'time_mushroomcomplex6',\n",
       " 'pipkin_applecidervinegar']"
      ]
     },
     "execution_count": 5,
     "metadata": {},
     "output_type": "execute_result"
    }
   ],
   "source": [
    "arrayOfFoldersInTrainDir = next(os.walk(train_dir))[1]\n",
    "arrayOfFoldersInTrainDir"
   ]
  },
  {
   "cell_type": "code",
   "execution_count": 6,
   "metadata": {},
   "outputs": [],
   "source": [
    "# Make a validation folder if it does not already exist\n",
    "validation_folderName = \"validation\"\n",
    "validation_path = os.path.join(current_dir, validation_folderName)\n",
    "if not os.path.exists(validation_path):\n",
    "    os.makedirs(validation_path)\n",
    "else:\n",
    "    print(\"path already exists\")"
   ]
  },
  {
   "cell_type": "code",
   "execution_count": 8,
   "metadata": {},
   "outputs": [],
   "source": [
    "# Make a folder in the validation directory for each class of supplement\n",
    "for className in arrayOfFoldersInTrainDir:\n",
    "    class_path =os.path.join(validation_path, className)\n",
    "    if not os.path.exists(class_path):\n",
    "        os.makedirs(class_path)\n",
    "    else:\n",
    "        print(\"path already exists\")"
   ]
  },
  {
   "cell_type": "code",
   "execution_count": 9,
   "metadata": {},
   "outputs": [],
   "source": [
    "# Copy files across from train folder to validation folder\n",
    "for className in arrayOfFoldersInTrainDir:\n",
    "    class_path =os.path.join(train_dir, className)\n",
    "    path, dirs, files = next(os.walk(class_path))\n",
    "    \n",
    "    # Print out number of files in each class directory\n",
    "    #file_count = len(files)\n",
    "    #print(file_count)\n",
    "    for file in files:\n",
    "        ranNum = random.uniform(0, 1)\n",
    "        if ranNum > 0.8: \n",
    "            class_train_path=os.path.join(train_dir, className, file) \n",
    "            class_validation_path=os.path.join(validation_path, className, file)\n",
    "            shutil.move(class_train_path, class_validation_path)\n"
   ]
  },
  {
   "cell_type": "code",
   "execution_count": null,
   "metadata": {},
   "outputs": [],
   "source": []
  },
  {
   "cell_type": "code",
   "execution_count": 29,
   "metadata": {},
   "outputs": [],
   "source": []
  }
 ],
 "metadata": {
  "kernelspec": {
   "display_name": "Python 3",
   "language": "python",
   "name": "python3"
  },
  "language_info": {
   "codemirror_mode": {
    "name": "ipython",
    "version": 3
   },
   "file_extension": ".py",
   "mimetype": "text/x-python",
   "name": "python",
   "nbconvert_exporter": "python",
   "pygments_lexer": "ipython3",
   "version": "3.7.3"
  }
 },
 "nbformat": 4,
 "nbformat_minor": 2
}
